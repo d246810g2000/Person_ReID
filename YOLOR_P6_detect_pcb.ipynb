{
 "cells": [
  {
   "cell_type": "code",
   "execution_count": 1,
   "id": "86e14199",
   "metadata": {},
   "outputs": [],
   "source": [
    "import os\n",
    "import cv2\n",
    "import glob\n",
    "import time\n",
    "import copy\n",
    "import shutil\n",
    "import random\n",
    "import numpy as np\n",
    "import pandas as pd\n",
    "from tqdm import tqdm\n",
    "import matplotlib.pyplot as plt\n",
    "import xml.etree.ElementTree as ET\n",
    "from sklearn.preprocessing import normalize"
   ]
  },
  {
   "cell_type": "markdown",
   "id": "cc4903f7",
   "metadata": {},
   "source": [
    "## 資料處理，從標記檔中取得行人影像並依照 reid 分類"
   ]
  },
  {
   "cell_type": "code",
   "execution_count": 2,
   "id": "f5c2ba77",
   "metadata": {},
   "outputs": [],
   "source": [
    "def getImagesInDir(dir_path):\n",
    "    img_formats = ['bmp', 'jpg', 'jpeg', 'png', 'tif', 'tiff', 'dng']  # acceptable image suffixes\n",
    "    image_list = []\n",
    "    for img_format in img_formats:\n",
    "        for filename in glob.glob(dir_path + f'/*.{img_format}'):\n",
    "            image_list.append(filename)\n",
    "    return image_list"
   ]
  },
  {
   "cell_type": "code",
   "execution_count": 3,
   "id": "12e8106d",
   "metadata": {},
   "outputs": [],
   "source": [
    "classes = ['pedestrian']\n",
    "img_dir = 'person_reid_datasets/train/JPEGImages/'\n",
    "ann_dir = 'person_reid_datasets/train/Annotations/'\n",
    "image_paths = getImagesInDir(img_dir)\n",
    "out_dir = 'reid/data'"
   ]
  },
  {
   "cell_type": "code",
   "execution_count": 4,
   "id": "f7150ab4",
   "metadata": {},
   "outputs": [],
   "source": [
    "# 創建資料夾\n",
    "if os.path.exists(out_dir.split('/')[0]):\n",
    "    shutil.rmtree(out_dir.split('/')[0])  # delete output folder\n",
    "os.makedirs(out_dir)  # make new output folder"
   ]
  },
  {
   "cell_type": "code",
   "execution_count": 5,
   "id": "ab7017fe",
   "metadata": {},
   "outputs": [
    {
     "name": "stderr",
     "output_type": "stream",
     "text": [
      "100%|██████████| 723/723 [00:08<00:00, 87.98it/s] \n"
     ]
    }
   ],
   "source": [
    "for img_path in tqdm(image_paths, total=len(image_paths)):\n",
    "    # read image\n",
    "    img = cv2.imread(img_path)\n",
    "    \n",
    "    basename = os.path.basename(img_path)\n",
    "    basename_no_ext = os.path.splitext(basename)[0]\n",
    "\n",
    "    in_file = open(ann_dir + '/' + basename_no_ext + '.xml')\n",
    "    tree = ET.parse(in_file)\n",
    "    root = tree.getroot()\n",
    "    size = root.find('size')\n",
    "    w = int(size.find('width').text)\n",
    "    h = int(size.find('height').text)\n",
    "    cnt=0\n",
    "    for obj in root.iter('object'):\n",
    "        difficult = obj.find('difficult').text\n",
    "        cls = obj.find('name').text\n",
    "        if cls not in classes or int(difficult)==1:\n",
    "            continue\n",
    "        cls_id = classes.index(cls)\n",
    "        xmlbox = obj.find('bndbox')\n",
    "        b = (float(xmlbox.find('xmin').text), float(xmlbox.find('xmax').text), float(xmlbox.find('ymin').text), float(xmlbox.find('ymax').text))\n",
    "        reid = obj.find('reid').text[:-2]\n",
    "        crop_img = img[int(b[2]):int(b[3]), int(b[0]):int(b[1]), :]\n",
    "        out_reid_dir = os.path.join(out_dir, reid)\n",
    "        if not os.path.exists(out_reid_dir):\n",
    "            os.mkdir(out_reid_dir)\n",
    "        cv2.imwrite(os.path.join(out_reid_dir, basename_no_ext+'_'+str(cnt))+'.jpg', crop_img)\n",
    "        cnt+=1"
   ]
  },
  {
   "cell_type": "code",
   "execution_count": 6,
   "id": "c5198512",
   "metadata": {},
   "outputs": [
    {
     "data": {
      "text/html": [
       "<div>\n",
       "<style scoped>\n",
       "    .dataframe tbody tr th:only-of-type {\n",
       "        vertical-align: middle;\n",
       "    }\n",
       "\n",
       "    .dataframe tbody tr th {\n",
       "        vertical-align: top;\n",
       "    }\n",
       "\n",
       "    .dataframe thead th {\n",
       "        text-align: right;\n",
       "    }\n",
       "</style>\n",
       "<table border=\"1\" class=\"dataframe\">\n",
       "  <thead>\n",
       "    <tr style=\"text-align: right;\">\n",
       "      <th></th>\n",
       "      <th>file</th>\n",
       "      <th>class</th>\n",
       "    </tr>\n",
       "  </thead>\n",
       "  <tbody>\n",
       "    <tr>\n",
       "      <th>0</th>\n",
       "      <td>c6s2_058318_4.jpg</td>\n",
       "      <td>624</td>\n",
       "    </tr>\n",
       "    <tr>\n",
       "      <th>1</th>\n",
       "      <td>c5s2_049580_3.jpg</td>\n",
       "      <td>624</td>\n",
       "    </tr>\n",
       "    <tr>\n",
       "      <th>2</th>\n",
       "      <td>c5s2_070777_4.jpg</td>\n",
       "      <td>624</td>\n",
       "    </tr>\n",
       "    <tr>\n",
       "      <th>3</th>\n",
       "      <td>c4s4_050685_1.jpg</td>\n",
       "      <td>624</td>\n",
       "    </tr>\n",
       "    <tr>\n",
       "      <th>4</th>\n",
       "      <td>c6s2_058393_1.jpg</td>\n",
       "      <td>624</td>\n",
       "    </tr>\n",
       "  </tbody>\n",
       "</table>\n",
       "</div>"
      ],
      "text/plain": [
       "                file class\n",
       "0  c6s2_058318_4.jpg   624\n",
       "1  c5s2_049580_3.jpg   624\n",
       "2  c5s2_070777_4.jpg   624\n",
       "3  c4s4_050685_1.jpg   624\n",
       "4  c6s2_058393_1.jpg   624"
      ]
     },
     "execution_count": 6,
     "metadata": {},
     "output_type": "execute_result"
    }
   ],
   "source": [
    "out_dir = 'reid/data'\n",
    "x_data_list = []\n",
    "y_data_list = []\n",
    "for roots, _, files in os.walk(out_dir):\n",
    "    for each in files:\n",
    "        if each.find('checkpoint') == -1:\n",
    "            x_data_list.append(each)\n",
    "            y_data_list.append(roots.split(\"/\")[-1])\n",
    "data = pd.DataFrame({'file':x_data_list, 'class':y_data_list})\n",
    "data.head()"
   ]
  },
  {
   "cell_type": "code",
   "execution_count": 7,
   "id": "92819b49",
   "metadata": {},
   "outputs": [
    {
     "data": {
      "text/html": [
       "<div>\n",
       "<style scoped>\n",
       "    .dataframe tbody tr th:only-of-type {\n",
       "        vertical-align: middle;\n",
       "    }\n",
       "\n",
       "    .dataframe tbody tr th {\n",
       "        vertical-align: top;\n",
       "    }\n",
       "\n",
       "    .dataframe thead th {\n",
       "        text-align: right;\n",
       "    }\n",
       "</style>\n",
       "<table border=\"1\" class=\"dataframe\">\n",
       "  <thead>\n",
       "    <tr style=\"text-align: right;\">\n",
       "      <th></th>\n",
       "      <th>file</th>\n",
       "    </tr>\n",
       "    <tr>\n",
       "      <th>class</th>\n",
       "      <th></th>\n",
       "    </tr>\n",
       "  </thead>\n",
       "  <tbody>\n",
       "    <tr>\n",
       "      <th>285</th>\n",
       "      <td>1</td>\n",
       "    </tr>\n",
       "    <tr>\n",
       "      <th>545</th>\n",
       "      <td>1</td>\n",
       "    </tr>\n",
       "    <tr>\n",
       "      <th>714</th>\n",
       "      <td>1</td>\n",
       "    </tr>\n",
       "    <tr>\n",
       "      <th>344</th>\n",
       "      <td>2</td>\n",
       "    </tr>\n",
       "    <tr>\n",
       "      <th>618</th>\n",
       "      <td>2</td>\n",
       "    </tr>\n",
       "    <tr>\n",
       "      <th>...</th>\n",
       "      <td>...</td>\n",
       "    </tr>\n",
       "    <tr>\n",
       "      <th>192</th>\n",
       "      <td>45</td>\n",
       "    </tr>\n",
       "    <tr>\n",
       "      <th>55</th>\n",
       "      <td>46</td>\n",
       "    </tr>\n",
       "    <tr>\n",
       "      <th>173</th>\n",
       "      <td>48</td>\n",
       "    </tr>\n",
       "    <tr>\n",
       "      <th>155</th>\n",
       "      <td>57</td>\n",
       "    </tr>\n",
       "    <tr>\n",
       "      <th>233</th>\n",
       "      <td>69</td>\n",
       "    </tr>\n",
       "  </tbody>\n",
       "</table>\n",
       "<p>100 rows × 1 columns</p>\n",
       "</div>"
      ],
      "text/plain": [
       "       file\n",
       "class      \n",
       "285       1\n",
       "545       1\n",
       "714       1\n",
       "344       2\n",
       "618       2\n",
       "...     ...\n",
       "192      45\n",
       "55       46\n",
       "173      48\n",
       "155      57\n",
       "233      69\n",
       "\n",
       "[100 rows x 1 columns]"
      ]
     },
     "execution_count": 7,
     "metadata": {},
     "output_type": "execute_result"
    }
   ],
   "source": [
    "data.groupby('class').count().sort_values(['file'])"
   ]
  },
  {
   "cell_type": "code",
   "execution_count": 8,
   "id": "cf7d8591",
   "metadata": {},
   "outputs": [
    {
     "data": {
      "text/plain": [
       "<matplotlib.axes._subplots.AxesSubplot at 0x7f10432cba50>"
      ]
     },
     "execution_count": 8,
     "metadata": {},
     "output_type": "execute_result"
    },
    {
     "data": {
      "image/png": "[encoded data removed]",
      "text/plain": [
       "<Figure size 1080x360 with 1 Axes>"
      ]
     },
     "metadata": {
      "needs_background": "light"
     },
     "output_type": "display_data"
    }
   ],
   "source": [
    "data.groupby('class').count().plot(kind='bar', figsize=(15, 5), legend=False)"
   ]
  },
  {
   "cell_type": "code",
   "execution_count": 9,
   "id": "ef1495b5",
   "metadata": {},
   "outputs": [],
   "source": [
    "class_num = len(data.groupby('class').count())"
   ]
  },
  {
   "cell_type": "markdown",
   "id": "22a4b026",
   "metadata": {},
   "source": [
    "## 讀入 ReID Pre-trained Model"
   ]
  },
  {
   "cell_type": "code",
   "execution_count": 10,
   "id": "8c36b414",
   "metadata": {},
   "outputs": [
    {
     "data": {
      "text/plain": [
       "<All keys matched successfully>"
      ]
     },
     "execution_count": 10,
     "metadata": {},
     "output_type": "execute_result"
    }
   ],
   "source": [
    "import torch\n",
    "import torch.nn as nn\n",
    "os.environ['CUDA_VISIBLE_DEVICES'] = '1'\n",
    "device = torch.device('cuda' if torch.cuda.is_available() else 'cpu')\n",
    "\n",
    "from model import PCB\n",
    "reid_model = PCB(751).to(device).eval()\n",
    "reid_model.load_state_dict(torch.load('pcb.pth') )"
   ]
  },
  {
   "cell_type": "code",
   "execution_count": 11,
   "id": "9bb46cef",
   "metadata": {},
   "outputs": [],
   "source": [
    "def load_data(folder_path):\n",
    "    names = os.listdir(folder_path)\n",
    "    if '.ipynb_checkpoints' in names:\n",
    "        names.remove(\".ipynb_checkpoints\")\n",
    "    data = {}\n",
    "    total_person = 0\n",
    "    for roots, dirs, files in os.walk(folder_path):\n",
    "        if roots.find(\".ipynb_checkpoints\") == -1:\n",
    "            name = roots.split('/')[-1]\n",
    "            if name in names: \n",
    "                data[name] = []\n",
    "                for file in files:\n",
    "                    total_person += 1\n",
    "                    data[name].append(os.path.join(roots, file))\n",
    "    print('total person:', total_person)\n",
    "    return data"
   ]
  },
  {
   "cell_type": "code",
   "execution_count": 12,
   "id": "227ec83c",
   "metadata": {},
   "outputs": [],
   "source": [
    "def get_embeddings(extractor, img):\n",
    "    img = ((img/255 - (0.485, 0.456, 0.406)) / (0.229, 0.224, 0.225)).astype('float32')\n",
    "    img = img.transpose((2, 0, 1))\n",
    "    inputs = np.expand_dims(img, axis=0)\n",
    "    inputs = torch.from_numpy(inputs).to(device)\n",
    "    with torch.no_grad():\n",
    "        embedding = extractor(inputs)\n",
    "    outputs = normalize(embedding.cpu().numpy()).flatten()\n",
    "    return outputs"
   ]
  },
  {
   "cell_type": "code",
   "execution_count": 13,
   "id": "3bdb40d4",
   "metadata": {},
   "outputs": [
    {
     "name": "stdout",
     "output_type": "stream",
     "text": [
      "total person: 1438\n"
     ]
    }
   ],
   "source": [
    "# load face data from database\n",
    "folder_path = 'reid/data'\n",
    "data = load_data(folder_path)"
   ]
  },
  {
   "cell_type": "code",
   "execution_count": 14,
   "id": "a79a88f8",
   "metadata": {},
   "outputs": [
    {
     "name": "stderr",
     "output_type": "stream",
     "text": [
      "0it [00:00, ?it/s]/opt/conda/lib/python3.7/site-packages/torch/nn/functional.py:718: UserWarning: Named tensors and all their associated APIs are an experimental feature and subject to change. Please do not use them for anything important until they are released as stable. (Triggered internally at  /pytorch/c10/core/TensorImpl.h:1156.)\n",
      "  return torch.max_pool2d(input, kernel_size, stride, padding, dilation, ceil_mode)\n",
      "100it [00:16,  6.09it/s]\n"
     ]
    }
   ],
   "source": [
    "n = len(data)\n",
    "allembeddings = np.zeros([len(data), 256])\n",
    "for j, name in tqdm(enumerate(data.keys())):\n",
    "    embeddings = np.zeros([len(data[name]), 256])\n",
    "    for i, file in enumerate(data[name]):\n",
    "        img = cv2.imread(file, cv2.IMREAD_COLOR).astype('float32')\n",
    "        img = cv2.resize(img[:,:,::-1], (192, 384))\n",
    "        # extract persons and calculate person embeddings for the photo files\n",
    "        embeddings[i] = get_embeddings(reid_model, img)\n",
    "    # calculate mean of the embeddings\n",
    "    allembeddings[j] = embeddings.mean(0)"
   ]
  },
  {
   "cell_type": "code",
   "execution_count": 15,
   "id": "bbc1a011",
   "metadata": {},
   "outputs": [],
   "source": [
    "db = {'names': list(data.keys()), 'embeddings': allembeddings}"
   ]
  },
  {
   "cell_type": "code",
   "execution_count": 16,
   "id": "412f4365",
   "metadata": {},
   "outputs": [
    {
     "data": {
      "text/plain": [
       "(100, 256)"
      ]
     },
     "execution_count": 16,
     "metadata": {},
     "output_type": "execute_result"
    }
   ],
   "source": [
    "allembeddings.shape"
   ]
  },
  {
   "cell_type": "markdown",
   "id": "6f884a5f",
   "metadata": {
    "id": "UL_9sBkuYsBz"
   },
   "source": [
    "# YOLOR + ReID 預測"
   ]
  },
  {
   "cell_type": "code",
   "execution_count": 17,
   "id": "421b62f9",
   "metadata": {},
   "outputs": [],
   "source": [
    "import sys\n",
    "sys.path.append('yolor')"
   ]
  },
  {
   "cell_type": "markdown",
   "id": "34605fce",
   "metadata": {
    "id": "IeXiY6goZNjE"
   },
   "source": [
    "## 匯入所需套件"
   ]
  },
  {
   "cell_type": "code",
   "execution_count": 18,
   "id": "01296f10",
   "metadata": {
    "id": "a91de30c"
   },
   "outputs": [],
   "source": [
    "import os\n",
    "import shutil\n",
    "import time\n",
    "import yaml\n",
    "import pandas as pd\n",
    "from pathlib import Path\n",
    "\n",
    "import cv2\n",
    "import torch\n",
    "import torch.backends.cudnn as cudnn\n",
    "from numpy import random\n",
    "import matplotlib.pyplot as plt\n",
    "\n",
    "from utils.google_utils import attempt_load\n",
    "from utils.datasets import LoadStreams, LoadImages\n",
    "from utils.general import (\n",
    "    check_img_size, non_max_suppression, apply_classifier, scale_coords, xyxy2xywh, strip_optimizer)\n",
    "from utils.plots import plot_one_box\n",
    "from utils.torch_utils import select_device, load_classifier, time_synchronized\n",
    "\n",
    "from models.models import *\n",
    "from utils.datasets import *\n",
    "from utils.general import *\n",
    "%matplotlib inline  "
   ]
  },
  {
   "cell_type": "code",
   "execution_count": 19,
   "id": "0859bb1f",
   "metadata": {
    "id": "811cd6d5"
   },
   "outputs": [],
   "source": [
    "os.environ['CUDA_VISIBLE_DEVICES'] = '1'\n",
    "device = torch.device('cuda' if torch.cuda.is_available() else 'cpu')"
   ]
  },
  {
   "cell_type": "markdown",
   "id": "7d84f989",
   "metadata": {
    "id": "89uLk_rVZsh3"
   },
   "source": [
    "## 參數設置"
   ]
  },
  {
   "cell_type": "code",
   "execution_count": 20,
   "id": "1f55a55e",
   "metadata": {
    "id": "5a4cafe9"
   },
   "outputs": [],
   "source": [
    "weights = 'weights/yolor_p6.pt'\n",
    "source = 'person_reid_datasets/test/'\n",
    "sub = 'person_reid_datasets/sample_submission.csv'\n",
    "cfg = 'cfg/yolor_p6_pedestrian.cfg'\n",
    "imgsz = 1280\n",
    "conf_thres = 0.25\n",
    "iou_thres = 0.5"
   ]
  },
  {
   "cell_type": "markdown",
   "id": "8cd7e282",
   "metadata": {
    "id": "ULXI0iSRZaJD"
   },
   "source": [
    "## 將訓練好的偵測模型權重和 ReID 模型權重讀入到各自的模型中"
   ]
  },
  {
   "cell_type": "code",
   "execution_count": 21,
   "id": "ab8824e4",
   "metadata": {
    "colab": {
     "base_uri": "https://localhost:8080/"
    },
    "id": "26c6a5ae",
    "outputId": "134ef9a3-30f9-465f-c1d5-df0411900942"
   },
   "outputs": [
    {
     "data": {
      "text/plain": [
       "<All keys matched successfully>"
      ]
     },
     "execution_count": 21,
     "metadata": {},
     "output_type": "execute_result"
    }
   ],
   "source": [
    "model = Darknet(cfg, imgsz).to(device).eval()\n",
    "model.load_state_dict(torch.load(weights, map_location=device)['model'])"
   ]
  },
  {
   "cell_type": "markdown",
   "id": "f2d62c7f",
   "metadata": {
    "id": "l1kAub6baCpD"
   },
   "source": [
    "## 預測影像"
   ]
  },
  {
   "cell_type": "code",
   "execution_count": 22,
   "id": "b6fdfecf",
   "metadata": {
    "id": "JgM71kIdaNl_"
   },
   "outputs": [],
   "source": [
    "dataset = LoadImages(source, img_size=imgsz, auto_size=64)"
   ]
  },
  {
   "cell_type": "code",
   "execution_count": 23,
   "id": "ba053f7f",
   "metadata": {},
   "outputs": [],
   "source": [
    "def compare_persons(db, embedding, threshold):\n",
    "    # read db\n",
    "    db_embeddings = db['embeddings']\n",
    "    db_names = db['names']\n",
    "\n",
    "    distances = np.zeros((len(db_embeddings)))\n",
    "    for i, db_embedding in enumerate(db_embeddings):\n",
    "        distance = round(np.linalg.norm(db_embedding-embedding), 1)\n",
    "        distances[i] = distance\n",
    "    idx_min = np.argmin(distances)\n",
    "    distance, name = distances[idx_min], db_names[idx_min]\n",
    "    if distance < threshold:\n",
    "        return name, distance\n",
    "    else:\n",
    "        return False, distance"
   ]
  },
  {
   "cell_type": "code",
   "execution_count": 24,
   "id": "93f53654",
   "metadata": {
    "colab": {
     "base_uri": "https://localhost:8080/"
    },
    "id": "05d01f15",
    "outputId": "d18393dc-9c08-465e-8b20-ba1ee724bfcf"
   },
   "outputs": [
    {
     "name": "stdout",
     "output_type": "stream",
     "text": [
      "image 1/153 /home/jovyan/Person_ReID/person_reid_datasets/test/c1_01.jpg: 768x1280 4\n",
      "image 2/153 /home/jovyan/Person_ReID/person_reid_datasets/test/c1_02.jpg: 768x1280 2\n",
      "image 3/153 /home/jovyan/Person_ReID/person_reid_datasets/test/c1_03.jpg: 768x1280 3\n",
      "image 4/153 /home/jovyan/Person_ReID/person_reid_datasets/test/c1_04.jpg: 768x1280 4\n",
      "image 5/153 /home/jovyan/Person_ReID/person_reid_datasets/test/c1_05.jpg: 768x1280 2\n",
      "image 6/153 /home/jovyan/Person_ReID/person_reid_datasets/test/c1_06.jpg: 768x1280 4\n",
      "image 7/153 /home/jovyan/Person_ReID/person_reid_datasets/test/c1_07.jpg: 768x1280 4\n",
      "image 8/153 /home/jovyan/Person_ReID/person_reid_datasets/test/c1_08.jpg: 768x1280 4\n",
      "image 9/153 /home/jovyan/Person_ReID/person_reid_datasets/test/c1_09.jpg: 768x1280 7\n",
      "image 10/153 /home/jovyan/Person_ReID/person_reid_datasets/test/c1_10.jpg: 768x1280 3\n",
      "image 11/153 /home/jovyan/Person_ReID/person_reid_datasets/test/c1_11.jpg: 768x1280 4\n",
      "image 12/153 /home/jovyan/Person_ReID/person_reid_datasets/test/c1_12.jpg: 768x1280 3\n",
      "image 13/153 /home/jovyan/Person_ReID/person_reid_datasets/test/c1_13.jpg: 768x1280 2\n",
      "image 14/153 /home/jovyan/Person_ReID/person_reid_datasets/test/c1_14.jpg: 768x1280 1\n",
      "image 15/153 /home/jovyan/Person_ReID/person_reid_datasets/test/c1_15.jpg: 768x1280 3\n",
      "image 16/153 /home/jovyan/Person_ReID/person_reid_datasets/test/c1_16.jpg: 768x1280 1\n",
      "image 17/153 /home/jovyan/Person_ReID/person_reid_datasets/test/c1_17.jpg: 768x1280 3\n",
      "image 18/153 /home/jovyan/Person_ReID/person_reid_datasets/test/c1_18.jpg: 768x1280 4\n",
      "image 19/153 /home/jovyan/Person_ReID/person_reid_datasets/test/c1_19.jpg: 768x1280 2\n",
      "image 20/153 /home/jovyan/Person_ReID/person_reid_datasets/test/c1_20.jpg: 768x1280 3\n",
      "image 21/153 /home/jovyan/Person_ReID/person_reid_datasets/test/c1_21.jpg: 768x1280 4\n",
      "image 22/153 /home/jovyan/Person_ReID/person_reid_datasets/test/c1_22.jpg: 768x1280 1\n",
      "image 23/153 /home/jovyan/Person_ReID/person_reid_datasets/test/c1_23.jpg: 768x1280 3\n",
      "image 24/153 /home/jovyan/Person_ReID/person_reid_datasets/test/c1_24.jpg: 768x1280 1\n",
      "image 25/153 /home/jovyan/Person_ReID/person_reid_datasets/test/c1_25.jpg: 768x1280 1\n",
      "image 26/153 /home/jovyan/Person_ReID/person_reid_datasets/test/c1_26.jpg: 768x1280 2\n",
      "image 27/153 /home/jovyan/Person_ReID/person_reid_datasets/test/c1_27.jpg: 768x1280 2\n",
      "image 28/153 /home/jovyan/Person_ReID/person_reid_datasets/test/c1_28.jpg: 768x1280 4\n",
      "image 29/153 /home/jovyan/Person_ReID/person_reid_datasets/test/c1_29.jpg: 768x1280 1\n",
      "image 30/153 /home/jovyan/Person_ReID/person_reid_datasets/test/c1_30.jpg: 768x1280 3\n",
      "image 31/153 /home/jovyan/Person_ReID/person_reid_datasets/test/c1_31.jpg: 768x1280 1\n",
      "image 32/153 /home/jovyan/Person_ReID/person_reid_datasets/test/c1_32.jpg: 768x1280 1\n",
      "image 33/153 /home/jovyan/Person_ReID/person_reid_datasets/test/c1_33.jpg: 768x1280 3\n",
      "image 34/153 /home/jovyan/Person_ReID/person_reid_datasets/test/c1_34.jpg: 768x1280 4\n",
      "image 35/153 /home/jovyan/Person_ReID/person_reid_datasets/test/c1_35.jpg: 768x1280 3\n",
      "image 36/153 /home/jovyan/Person_ReID/person_reid_datasets/test/c1_36.jpg: 768x1280 2\n",
      "image 37/153 /home/jovyan/Person_ReID/person_reid_datasets/test/c1_37.jpg: 768x1280 2\n",
      "image 38/153 /home/jovyan/Person_ReID/person_reid_datasets/test/c1_38.jpg: 768x1280 1\n",
      "image 39/153 /home/jovyan/Person_ReID/person_reid_datasets/test/c1_39.jpg: 768x1280 4\n",
      "image 40/153 /home/jovyan/Person_ReID/person_reid_datasets/test/c1_40.jpg: 768x1280 2\n",
      "image 41/153 /home/jovyan/Person_ReID/person_reid_datasets/test/c1_41.jpg: 768x1280 1\n",
      "image 42/153 /home/jovyan/Person_ReID/person_reid_datasets/test/c1_42.jpg: 768x1280 6\n",
      "image 43/153 /home/jovyan/Person_ReID/person_reid_datasets/test/c1_43.jpg: 768x1280 3\n",
      "image 44/153 /home/jovyan/Person_ReID/person_reid_datasets/test/c1_44.jpg: 768x1280 5\n",
      "image 45/153 /home/jovyan/Person_ReID/person_reid_datasets/test/c1_45.jpg: 768x1280 2\n",
      "image 46/153 /home/jovyan/Person_ReID/person_reid_datasets/test/c1_46.jpg: 768x1280 1\n",
      "image 47/153 /home/jovyan/Person_ReID/person_reid_datasets/test/c1_47.jpg: 768x1280 7\n",
      "image 48/153 /home/jovyan/Person_ReID/person_reid_datasets/test/c1_48.jpg: 768x1280 4\n",
      "image 49/153 /home/jovyan/Person_ReID/person_reid_datasets/test/c1_49.jpg: 768x1280 5\n",
      "image 50/153 /home/jovyan/Person_ReID/person_reid_datasets/test/c1_50.jpg: 768x1280 1\n",
      "image 51/153 /home/jovyan/Person_ReID/person_reid_datasets/test/c1_51.jpg: 768x1280 2\n",
      "image 52/153 /home/jovyan/Person_ReID/person_reid_datasets/test/c1_52.jpg: 768x1280 2\n",
      "image 53/153 /home/jovyan/Person_ReID/person_reid_datasets/test/c1_53.jpg: 768x1280 1\n",
      "image 54/153 /home/jovyan/Person_ReID/person_reid_datasets/test/c1_54.jpg: 768x1280 3\n",
      "image 55/153 /home/jovyan/Person_ReID/person_reid_datasets/test/c1_55.jpg: 768x1280 1\n",
      "image 56/153 /home/jovyan/Person_ReID/person_reid_datasets/test/c1_56.jpg: 768x1280 1\n",
      "image 57/153 /home/jovyan/Person_ReID/person_reid_datasets/test/c1_57.jpg: 768x1280 1\n",
      "image 58/153 /home/jovyan/Person_ReID/person_reid_datasets/test/c1_58.jpg: 768x1280 3\n",
      "image 59/153 /home/jovyan/Person_ReID/person_reid_datasets/test/c1_59.jpg: 768x1280 2\n",
      "image 60/153 /home/jovyan/Person_ReID/person_reid_datasets/test/c1_60.jpg: 768x1280 8\n",
      "image 61/153 /home/jovyan/Person_ReID/person_reid_datasets/test/c1_61.jpg: 768x1280 1\n",
      "image 62/153 /home/jovyan/Person_ReID/person_reid_datasets/test/c1_62.jpg: 768x1280 4\n",
      "image 63/153 /home/jovyan/Person_ReID/person_reid_datasets/test/c1_63.jpg: 768x1280 2\n",
      "image 64/153 /home/jovyan/Person_ReID/person_reid_datasets/test/c1_64.jpg: 768x1280 3\n",
      "image 65/153 /home/jovyan/Person_ReID/person_reid_datasets/test/c1_65.jpg: 768x1280 3\n",
      "image 66/153 /home/jovyan/Person_ReID/person_reid_datasets/test/c1_66.jpg: 768x1280 2\n",
      "image 67/153 /home/jovyan/Person_ReID/person_reid_datasets/test/c1_67.jpg: 768x1280 3\n",
      "image 68/153 /home/jovyan/Person_ReID/person_reid_datasets/test/c1_68.jpg: 768x1280 1\n",
      "image 69/153 /home/jovyan/Person_ReID/person_reid_datasets/test/c1_69.jpg: 768x1280 3\n",
      "image 70/153 /home/jovyan/Person_ReID/person_reid_datasets/test/c1_70.jpg: 768x1280 4\n",
      "image 71/153 /home/jovyan/Person_ReID/person_reid_datasets/test/c1_71.jpg: 768x1280 2\n",
      "image 72/153 /home/jovyan/Person_ReID/person_reid_datasets/test/c1_72.jpg: 768x1280 4\n",
      "image 73/153 /home/jovyan/Person_ReID/person_reid_datasets/test/c2_01.jpg: 768x1280 3\n",
      "image 74/153 /home/jovyan/Person_ReID/person_reid_datasets/test/c2_02.jpg: 768x1280 2\n",
      "image 75/153 /home/jovyan/Person_ReID/person_reid_datasets/test/c2_03.jpg: 768x1280 2\n",
      "image 76/153 /home/jovyan/Person_ReID/person_reid_datasets/test/c2_04.jpg: 768x1280 3\n",
      "image 77/153 /home/jovyan/Person_ReID/person_reid_datasets/test/c2_05.jpg: 768x1280 1\n",
      "image 78/153 /home/jovyan/Person_ReID/person_reid_datasets/test/c2_06.jpg: 768x1280 3\n",
      "image 79/153 /home/jovyan/Person_ReID/person_reid_datasets/test/c2_07.jpg: 768x1280 2\n",
      "image 80/153 /home/jovyan/Person_ReID/person_reid_datasets/test/c2_08.jpg: 768x1280 2\n",
      "image 81/153 /home/jovyan/Person_ReID/person_reid_datasets/test/c2_09.jpg: 768x1280 2\n",
      "image 82/153 /home/jovyan/Person_ReID/person_reid_datasets/test/c2_10.jpg: 768x1280 4\n",
      "image 83/153 /home/jovyan/Person_ReID/person_reid_datasets/test/c2_11.jpg: 768x1280 1\n",
      "image 84/153 /home/jovyan/Person_ReID/person_reid_datasets/test/c2_12.jpg: 768x1280 2\n",
      "image 85/153 /home/jovyan/Person_ReID/person_reid_datasets/test/c2_13.jpg: 768x1280 1\n",
      "image 86/153 /home/jovyan/Person_ReID/person_reid_datasets/test/c2_14.jpg: 768x1280 2\n",
      "image 87/153 /home/jovyan/Person_ReID/person_reid_datasets/test/c2_15.jpg: 768x1280 1\n",
      "image 88/153 /home/jovyan/Person_ReID/person_reid_datasets/test/c2_16.jpg: 768x1280 1\n",
      "image 89/153 /home/jovyan/Person_ReID/person_reid_datasets/test/c2_17.jpg: 768x1280 3\n",
      "image 90/153 /home/jovyan/Person_ReID/person_reid_datasets/test/c2_18.jpg: 768x1280 4\n",
      "image 91/153 /home/jovyan/Person_ReID/person_reid_datasets/test/c2_19.jpg: 768x1280 1\n",
      "image 92/153 /home/jovyan/Person_ReID/person_reid_datasets/test/c2_20.jpg: 768x1280 1\n",
      "image 93/153 /home/jovyan/Person_ReID/person_reid_datasets/test/c2_21.jpg: 768x1280 2\n",
      "image 94/153 /home/jovyan/Person_ReID/person_reid_datasets/test/c2_22.jpg: 768x1280 2\n",
      "image 95/153 /home/jovyan/Person_ReID/person_reid_datasets/test/c2_23.jpg: 768x1280 2\n",
      "image 96/153 /home/jovyan/Person_ReID/person_reid_datasets/test/c2_24.jpg: 768x1280 3\n",
      "image 97/153 /home/jovyan/Person_ReID/person_reid_datasets/test/c2_25.jpg: 768x1280 2\n",
      "image 98/153 /home/jovyan/Person_ReID/person_reid_datasets/test/c2_26.jpg: 768x1280 1\n",
      "image 99/153 /home/jovyan/Person_ReID/person_reid_datasets/test/c2_27.jpg: 768x1280 2\n",
      "image 100/153 /home/jovyan/Person_ReID/person_reid_datasets/test/c2_28.jpg: 768x1280 1\n",
      "image 101/153 /home/jovyan/Person_ReID/person_reid_datasets/test/c2_29.jpg: 768x1280 1\n",
      "image 102/153 /home/jovyan/Person_ReID/person_reid_datasets/test/c2_30.jpg: 768x1280 2\n",
      "image 103/153 /home/jovyan/Person_ReID/person_reid_datasets/test/c2_31.jpg: 768x1280 4\n",
      "image 104/153 /home/jovyan/Person_ReID/person_reid_datasets/test/c2_32.jpg: 768x1280 2\n",
      "image 105/153 /home/jovyan/Person_ReID/person_reid_datasets/test/c2_33.jpg: 768x1280 1\n",
      "image 106/153 /home/jovyan/Person_ReID/person_reid_datasets/test/c2_34.jpg: 768x1280 5\n",
      "image 107/153 /home/jovyan/Person_ReID/person_reid_datasets/test/c3_01.jpg: 768x1280 3\n",
      "image 108/153 /home/jovyan/Person_ReID/person_reid_datasets/test/c3_02.jpg: 768x1280 5\n",
      "image 109/153 /home/jovyan/Person_ReID/person_reid_datasets/test/c3_03.jpg: 768x1280 1\n",
      "image 110/153 /home/jovyan/Person_ReID/person_reid_datasets/test/c3_04.jpg: 768x1280 2\n",
      "image 111/153 /home/jovyan/Person_ReID/person_reid_datasets/test/c3_05.jpg: 768x1280 3\n",
      "image 112/153 /home/jovyan/Person_ReID/person_reid_datasets/test/c3_06.jpg: 768x1280 3\n",
      "image 113/153 /home/jovyan/Person_ReID/person_reid_datasets/test/c3_07.jpg: 768x1280 4\n",
      "image 114/153 /home/jovyan/Person_ReID/person_reid_datasets/test/c3_08.jpg: 768x1280 3\n",
      "image 115/153 /home/jovyan/Person_ReID/person_reid_datasets/test/c3_09.jpg: 768x1280 3\n",
      "image 116/153 /home/jovyan/Person_ReID/person_reid_datasets/test/c3_10.jpg: 768x1280 3\n",
      "image 117/153 /home/jovyan/Person_ReID/person_reid_datasets/test/c3_11.jpg: 768x1280 2\n",
      "image 118/153 /home/jovyan/Person_ReID/person_reid_datasets/test/c3_12.jpg: 768x1280 5\n",
      "image 119/153 /home/jovyan/Person_ReID/person_reid_datasets/test/c3_13.jpg: 768x1280 4\n",
      "image 120/153 /home/jovyan/Person_ReID/person_reid_datasets/test/c3_14.jpg: 768x1280 2\n",
      "image 121/153 /home/jovyan/Person_ReID/person_reid_datasets/test/c3_15.jpg: 768x1280 3\n",
      "image 122/153 /home/jovyan/Person_ReID/person_reid_datasets/test/c3_16.jpg: 768x1280 3\n",
      "image 123/153 /home/jovyan/Person_ReID/person_reid_datasets/test/c3_17.jpg: 768x1280 4\n",
      "image 124/153 /home/jovyan/Person_ReID/person_reid_datasets/test/c3_18.jpg: 768x1280 3\n",
      "image 125/153 /home/jovyan/Person_ReID/person_reid_datasets/test/c3_19.jpg: 768x1280 2\n",
      "image 126/153 /home/jovyan/Person_ReID/person_reid_datasets/test/c3_20.jpg: 768x1280 2\n",
      "image 127/153 /home/jovyan/Person_ReID/person_reid_datasets/test/c3_21.jpg: 768x1280 6\n",
      "image 128/153 /home/jovyan/Person_ReID/person_reid_datasets/test/c3_22.jpg: 768x1280 2\n",
      "image 129/153 /home/jovyan/Person_ReID/person_reid_datasets/test/c3_23.jpg: 768x1280 7\n",
      "image 130/153 /home/jovyan/Person_ReID/person_reid_datasets/test/c3_24.jpg: 768x1280 3\n",
      "image 131/153 /home/jovyan/Person_ReID/person_reid_datasets/test/c3_25.jpg: 768x1280 3\n",
      "image 132/153 /home/jovyan/Person_ReID/person_reid_datasets/test/c3_26.jpg: 768x1280 2\n",
      "image 133/153 /home/jovyan/Person_ReID/person_reid_datasets/test/c3_27.jpg: 768x1280 3\n",
      "image 134/153 /home/jovyan/Person_ReID/person_reid_datasets/test/c3_28.jpg: 768x1280 5\n",
      "image 135/153 /home/jovyan/Person_ReID/person_reid_datasets/test/c3_29.jpg: 768x1280 2\n",
      "image 136/153 /home/jovyan/Person_ReID/person_reid_datasets/test/c3_30.jpg: 768x1280 1\n",
      "image 137/153 /home/jovyan/Person_ReID/person_reid_datasets/test/c3_31.jpg: 768x1280 5\n",
      "image 138/153 /home/jovyan/Person_ReID/person_reid_datasets/test/c3_32.jpg: 768x1280 2\n",
      "image 139/153 /home/jovyan/Person_ReID/person_reid_datasets/test/c3_33.jpg: 768x1280 2\n",
      "image 140/153 /home/jovyan/Person_ReID/person_reid_datasets/test/c3_34.jpg: 768x1280 3\n",
      "image 141/153 /home/jovyan/Person_ReID/person_reid_datasets/test/c3_35.jpg: 768x1280 2\n",
      "image 142/153 /home/jovyan/Person_ReID/person_reid_datasets/test/c3_36.jpg: 768x1280 2\n",
      "image 143/153 /home/jovyan/Person_ReID/person_reid_datasets/test/c3_37.jpg: 768x1280 2\n",
      "image 144/153 /home/jovyan/Person_ReID/person_reid_datasets/test/c3_38.jpg: 768x1280 2\n",
      "image 145/153 /home/jovyan/Person_ReID/person_reid_datasets/test/c3_39.jpg: 768x1280 4\n",
      "image 146/153 /home/jovyan/Person_ReID/person_reid_datasets/test/c3_40.jpg: 768x1280 2\n",
      "image 147/153 /home/jovyan/Person_ReID/person_reid_datasets/test/c3_41.jpg: 768x1280 3\n",
      "image 148/153 /home/jovyan/Person_ReID/person_reid_datasets/test/c3_42.jpg: 768x1280 4\n",
      "image 149/153 /home/jovyan/Person_ReID/person_reid_datasets/test/c3_43.jpg: 768x1280 5\n",
      "image 150/153 /home/jovyan/Person_ReID/person_reid_datasets/test/c3_44.jpg: 768x1280 4\n",
      "image 151/153 /home/jovyan/Person_ReID/person_reid_datasets/test/c3_45.jpg: 768x1280 2\n",
      "image 152/153 /home/jovyan/Person_ReID/person_reid_datasets/test/c3_46.jpg: 768x1280 2\n",
      "image 153/153 /home/jovyan/Person_ReID/person_reid_datasets/test/c3_47.jpg: 768x1280 3\n",
      "Done. (15.185s)\n"
     ]
    }
   ],
   "source": [
    "submission = pd.read_csv(sub)\n",
    "submission = submission.drop([0])\n",
    "# Run inference\n",
    "with torch.no_grad():\n",
    "    t0 = time.time()\n",
    "    img = torch.zeros((1, 3, imgsz, imgsz), device=device)  # init img\n",
    "    _ = model(img) # run once\n",
    "    for path, img, im0s, vid_cap in dataset:\n",
    "        basename = os.path.basename(path)\n",
    "        basename_no_ext = os.path.splitext(basename)[0]\n",
    "        \n",
    "        h, w, _ = im0s.shape\n",
    "        img = torch.from_numpy(img).to(device)\n",
    "        img = img.float()  # uint8 to fp16/32\n",
    "        img /= 255.0  # 0 - 255 to 0.0 - 1.0\n",
    "        if img.ndimension() == 3:\n",
    "            img = img.unsqueeze(0)\n",
    "        # Inference\n",
    "        t1 = time_synchronized()\n",
    "        pred = model(img)[0]\n",
    "\n",
    "        # Apply NMS\n",
    "        pred = non_max_suppression(pred, conf_thres, iou_thres)\n",
    "        t2 = time_synchronized()\n",
    "\n",
    "        # Process detections\n",
    "        for i, det in enumerate(pred):  # detections per image\n",
    "            p, s, im0 = path, '', im0s\n",
    "#             save_path = str(Path(out) / Path(p).name)\n",
    "            s += '%gx%g ' % img.shape[2:]  # print string\n",
    "            gn = torch.tensor(im0.shape)[[1, 0, 1, 0]]  # normalization gain whwh\n",
    "            if det is not None and len(det):\n",
    "                # Rescale boxes from img_size to im0 size\n",
    "                det[:, :4] = scale_coords(img.shape[2:], det[:, :4], im0.shape).round()\n",
    "\n",
    "                # Print results\n",
    "                for c in det[:, -1].unique():\n",
    "                    n = (det[:, -1] == c).sum()  # detections per class\n",
    "                    s += '%g' % n  # add to string\n",
    "\n",
    "                # Write results\n",
    "                for *xyxy, conf, cls in det:\n",
    "                    crop_img = im0[int(xyxy[1]):int(xyxy[3]), int(xyxy[0]):int(xyxy[2])]\n",
    "                    crop_img_resize = cv2.resize(crop_img[:,:,::-1], (192, 384))\n",
    "                    crop_img_resize = ((crop_img_resize/255 - (0.485, 0.456, 0.406)) / (0.229, 0.224, 0.225)).astype('float32') # 0 - 255 to 0.0 - 1.0\n",
    "                    crop_img_resize = crop_img_resize.transpose((2, 0, 1))\n",
    "                    crop_img_resize = np.expand_dims(crop_img_resize, 0)\n",
    "                    crop_img_resize = torch.from_numpy(crop_img_resize).to(device)\n",
    "                    with torch.no_grad():\n",
    "                        preds = reid_model(crop_img_resize)\n",
    "                        embedding = normalize(preds.cpu())\n",
    "                        matches = compare_persons(db, embedding, 2)\n",
    "                        distance = matches[1]\n",
    "                        if False not in matches:\n",
    "                            reid = matches[0]\n",
    "                    submission.loc[len(submission)] = [basename_no_ext,\n",
    "                                                       reid,\n",
    "                                                       float(conf.cpu()),\n",
    "                                                       int(xyxy[0].cpu())/w,\n",
    "                                                       int(xyxy[1].cpu())/h,\n",
    "                                                       int(xyxy[2].cpu())/w,\n",
    "                                                       int(xyxy[3].cpu())/h]\n",
    "            print(s)\n",
    "#                     plot_one_box(xyxy, im0, label=reid, color=colors[class_names.index(reid)], line_thickness=1)\n",
    "#             cv2.imwrite(save_path, im0)\n",
    "#     print('Results saved to %s' % Path(out))\n",
    "    print('Done. (%.3fs)' % (time.time() - t0))"
   ]
  },
  {
   "cell_type": "code",
   "execution_count": 25,
   "id": "28d0cb09",
   "metadata": {},
   "outputs": [],
   "source": [
    "submission.to_csv('submission_yolor_p6_pcb.csv', index=False)"
   ]
  },
  {
   "cell_type": "code",
   "execution_count": 26,
   "id": "9072b55d",
   "metadata": {},
   "outputs": [],
   "source": [
    "import numpy as np\n",
    "import pandas as pd\n",
    "from mean_average_precision.detection_map import DetectionMAP\n",
    "answer = pd.read_csv('answer.csv')\n",
    "submission = pd.read_csv('submission_yolor_p6_pcb.csv')\n",
    "\n",
    "filenames = np.unique(answer['filename'])\n",
    "class_names = [  1,   3,  15,  55,  61,  63,  74,  75,  84,  87,  88,  90,  98,\n",
    "       111, 112, 116, 117, 122, 123, 124, 125, 126, 132, 133, 135, 148,\n",
    "       155, 162, 163, 166, 173, 174, 175, 181, 182, 183, 184, 185, 188,\n",
    "       192, 193, 197, 205, 216, 221, 222, 225, 228, 230, 231, 232, 233,\n",
    "       235, 265, 273, 285, 296, 302, 338, 339, 341, 344, 359, 516, 517,\n",
    "       543, 544, 545, 607, 618, 619, 621, 622, 623, 624, 626, 652, 653,\n",
    "       655, 656, 659, 660, 662, 663, 664, 705, 712, 713, 714, 734, 735,\n",
    "       736, 754, 835, 857, 880, 881, 882, 891, 894]\n",
    "cls_name_dict = {k:v for v, k in enumerate(class_names)}\n",
    "submission['reid'] = submission['reid'].map(cls_name_dict)\n",
    "answer['reid'] = answer['reid'].map(cls_name_dict)"
   ]
  },
  {
   "cell_type": "code",
   "execution_count": 27,
   "id": "de091f5a",
   "metadata": {},
   "outputs": [],
   "source": [
    "frames = []\n",
    "for file in filenames:\n",
    "    sub = submission[submission['filename']==file]\n",
    "    ans = answer[answer['filename']==file]\n",
    "    pred_bb = sub[['left', 'top', 'right', 'bottom']].values\n",
    "    pred_cls = sub['reid'].values\n",
    "    pred_conf = sub['confidence'].values\n",
    "    gt_bb = ans[['left', 'top', 'right', 'bottom']].values\n",
    "    gt_cls = ans['reid'].values\n",
    "    frames.append((pred_bb, pred_cls, pred_conf, gt_bb, gt_cls))"
   ]
  },
  {
   "cell_type": "code",
   "execution_count": 28,
   "id": "d8e412e7",
   "metadata": {},
   "outputs": [
    {
     "name": "stdout",
     "output_type": "stream",
     "text": [
      "mAP@.5: 0.875156265085193\n",
      "mAP@.55: 0.8737276936566214\n",
      "mAP@.6: 0.8723501426362132\n",
      "mAP@.65: 0.8673703446564153\n",
      "mAP@.7: 0.8607702202437909\n",
      "mAP@.75: 0.8212202106711634\n",
      "mAP@.8: 0.7669317179625168\n",
      "mAP@.85: 0.6422264198357572\n",
      "mAP@.9: 0.47855256551570524\n",
      "mAP@.95: 0.3585903867260264\n",
      "mAP@.5:.95: 0.7416895966989403\n"
     ]
    }
   ],
   "source": [
    "n_class = len(class_names)\n",
    "\n",
    "thresh = [0.5 , 0.55, 0.6 , 0.65, 0.7 , 0.75, 0.8 , 0.85, 0.9 , 0.95]\n",
    "mAP_all = []\n",
    "for thre in thresh:\n",
    "    mAP = DetectionMAP(n_class, overlap_threshold=thre)\n",
    "    for i, frame in enumerate(frames):\n",
    "    #     print(\"Evaluate frame {}\".format(i))\n",
    "    #     show_frame(*frame)\n",
    "        mAP.evaluate(*frame)\n",
    "    print('mAP@' + str(thre)[1:] + f': {mAP.compute_mAP()}')\n",
    "    mAP_all.append(mAP.compute_mAP())\n",
    "\n",
    "print(f'mAP@.5:.95: {np.average(mAP_all)}')\n",
    "# print('mAP:', mAP.compute_mAP())\n",
    "# mAP.plot(class_names=class_names, figsize=30)\n",
    "# plt.show()\n",
    "#plt.savefig(\"pr_curve_example.png\")"
   ]
  },
  {
   "cell_type": "code",
   "execution_count": null,
   "id": "cf732a7f",
   "metadata": {},
   "outputs": [],
   "source": []
  }
 ],
 "metadata": {
  "accelerator": "GPU",
  "colab": {
   "collapsed_sections": [],
   "name": "YOLOv4_detect.ipynb",
   "provenance": []
  },
  "kernelspec": {
   "display_name": "Python 3 (ipykernel)",
   "language": "python",
   "name": "python3"
  },
  "language_info": {
   "codemirror_mode": {
    "name": "ipython",
    "version": 3
   },
   "file_extension": ".py",
   "mimetype": "text/x-python",
   "name": "python",
   "nbconvert_exporter": "python",
   "pygments_lexer": "ipython3",
   "version": "3.7.10"
  }
 },
 "nbformat": 4,
 "nbformat_minor": 5
}
