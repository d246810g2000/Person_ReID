{
 "cells": [
  {
   "cell_type": "code",
   "execution_count": 1,
   "id": "03638054",
   "metadata": {},
   "outputs": [],
   "source": [
    "import os\n",
    "import cv2\n",
    "import glob\n",
    "import shutil\n",
    "from tqdm import tqdm\n",
    "import pandas as pd\n",
    "import matplotlib.pyplot as plt\n",
    "import xml.etree.ElementTree as ET\n",
    "\n",
    "def getImagesInDir(dir_path):\n",
    "    img_formats = ['bmp', 'jpg', 'jpeg', 'png', 'tif', 'tiff', 'dng']  # acceptable image suffixes\n",
    "    image_list = []\n",
    "    for img_format in img_formats:\n",
    "        for filename in glob.glob(dir_path + f'/*.{img_format}'):\n",
    "            image_list.append(filename)\n",
    "    return image_list"
   ]
  },
  {
   "cell_type": "code",
   "execution_count": 2,
   "id": "e63ea764",
   "metadata": {},
   "outputs": [],
   "source": [
    "classes = ['pedestrian']\n",
    "img_dir = 'JPEGImages/'\n",
    "ann_dir = 'Annotations/'\n",
    "image_paths = getImagesInDir(img_dir)\n",
    "image_paths = sorted(image_paths)"
   ]
  },
  {
   "cell_type": "code",
   "execution_count": 3,
   "id": "a7c6b470",
   "metadata": {},
   "outputs": [
    {
     "name": "stderr",
     "output_type": "stream",
     "text": [
      "100%|██████████| 153/153 [00:16<00:00,  9.31it/s]\n"
     ]
    }
   ],
   "source": [
    "submission = pd.read_csv('sample_submission.csv')\n",
    "for img_path in tqdm(image_paths, total=len(image_paths)):\n",
    "    # read image\n",
    "    img = cv2.imread(img_path)\n",
    "    \n",
    "    basename = os.path.basename(img_path)\n",
    "    basename_no_ext = os.path.splitext(basename)[0]\n",
    "\n",
    "    in_file = open(ann_dir + '/' + basename_no_ext + '.xml')\n",
    "    tree = ET.parse(in_file)\n",
    "    root = tree.getroot()\n",
    "    size = root.find('size')\n",
    "    w = int(size.find('width').text)\n",
    "    h = int(size.find('height').text)\n",
    "    for obj in root.iter('object'):\n",
    "        difficult = obj.find('difficult').text\n",
    "        cls = obj.find('name').text\n",
    "        if cls not in classes or int(difficult)==1:\n",
    "            continue\n",
    "        cls_id = classes.index(cls)\n",
    "        xmlbox = obj.find('bndbox')\n",
    "        reid = obj.find('reid').text[:-2]\n",
    "        submission.loc[len(submission)] = [basename_no_ext,\n",
    "                                           reid,\n",
    "                                           '1',\n",
    "                                           int(xmlbox.find('xmin').text)/w,\n",
    "                                           int(xmlbox.find('ymin').text)/h,\n",
    "                                           int(xmlbox.find('xmax').text)/w,\n",
    "                                           int(xmlbox.find('ymax').text)/h]"
   ]
  },
  {
   "cell_type": "code",
   "execution_count": 4,
   "id": "b0bb7f7e",
   "metadata": {},
   "outputs": [],
   "source": [
    "submission.to_csv('answer.csv', index=False)"
   ]
  },
  {
   "cell_type": "code",
   "execution_count": 5,
   "id": "18acb226",
   "metadata": {},
   "outputs": [
    {
     "data": {
      "text/plain": [
       "67"
      ]
     },
     "execution_count": 5,
     "metadata": {},
     "output_type": "execute_result"
    }
   ],
   "source": [
    "import numpy as np\n",
    "len(np.unique(submission['reid']))"
   ]
  },
  {
   "cell_type": "code",
   "execution_count": null,
   "id": "206f49b4",
   "metadata": {},
   "outputs": [],
   "source": []
  }
 ],
 "metadata": {
  "kernelspec": {
   "display_name": "Python 3 (ipykernel)",
   "language": "python",
   "name": "python3"
  },
  "language_info": {
   "codemirror_mode": {
    "name": "ipython",
    "version": 3
   },
   "file_extension": ".py",
   "mimetype": "text/x-python",
   "name": "python",
   "nbconvert_exporter": "python",
   "pygments_lexer": "ipython3",
   "version": "3.7.10"
  }
 },
 "nbformat": 4,
 "nbformat_minor": 5
}
