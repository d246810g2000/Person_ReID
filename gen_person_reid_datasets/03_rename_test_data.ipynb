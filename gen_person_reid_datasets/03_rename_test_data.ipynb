{
 "cells": [
  {
   "cell_type": "markdown",
   "id": "623fc256",
   "metadata": {
    "id": "c3f0a168"
   },
   "source": [
    "## rename"
   ]
  },
  {
   "cell_type": "code",
   "execution_count": null,
   "id": "a1a6d0fd",
   "metadata": {},
   "outputs": [],
   "source": [
    "import os\n",
    "img_path = 'JPEGImages/'\n",
    "xml_path = 'Annotations/'\n",
    "seg = ['c1', 'c2', 'c3']\n",
    "cnt = [1, 1, 1]\n",
    "for roots, dirs, files in os.walk(img_path):\n",
    "    for each in files:\n",
    "        if each.find('checkpoint') == -1:\n",
    "            for i, s in enumerate(seg):\n",
    "                if each[:2]==s:\n",
    "                    old_img = os.path.join(img_path, each)\n",
    "                    old_xml = os.path.join(xml_path, each.split('.')[0])+'.xml'\n",
    "                    new_img = os.path.join(img_path, s + '_' + f'{cnt[i]}'.zfill(2)+'.jpg')\n",
    "                    new_xml = os.path.join(xml_path, s + '_' + f'{cnt[i]}'.zfill(2)+'.xml')\n",
    "                    os.rename(old_img, new_img)\n",
    "                    os.rename(old_xml, new_xml)\n",
    "                    cnt[i]+=1"
   ]
  },
  {
   "cell_type": "code",
   "execution_count": 8,
   "id": "0030b904",
   "metadata": {
    "id": "6d9467b8"
   },
   "outputs": [],
   "source": [
    "# import os\n",
    "# img_path = 'JPEGImages/'\n",
    "# xml_path = 'Annotations/'\n",
    "# for roots, dirs, files in os.walk(img_path):\n",
    "#     cnt=1\n",
    "#     for each in files:\n",
    "#         if each.find('checkpoint') == -1:\n",
    "#             if each[:2]=='c3':\n",
    "#                 old_img = os.path.join(img_path, each)\n",
    "#                 old_xml = os.path.join(xml_path, each.split('.')[0])+'.xml'\n",
    "#                 new_img = os.path.join(img_path, 'c3_' + f'{cnt}'.zfill(2)+'.jpg')\n",
    "#                 new_xml = os.path.join(xml_path, 'c3_' + f'{cnt}'.zfill(2)+'.xml')\n",
    "#                 os.rename(old_img, new_img)\n",
    "#                 os.rename(old_xml, new_xml)\n",
    "#                 cnt+=1"
   ]
  },
  {
   "cell_type": "code",
   "execution_count": null,
   "id": "f99ffada",
   "metadata": {},
   "outputs": [],
   "source": []
  }
 ],
 "metadata": {
  "colab": {
   "name": "preprocess_data.ipynb",
   "provenance": []
  },
  "kernelspec": {
   "display_name": "Python 3 (ipykernel)",
   "language": "python",
   "name": "python3"
  },
  "language_info": {
   "codemirror_mode": {
    "name": "ipython",
    "version": 3
   },
   "file_extension": ".py",
   "mimetype": "text/x-python",
   "name": "python",
   "nbconvert_exporter": "python",
   "pygments_lexer": "ipython3",
   "version": "3.7.10"
  }
 },
 "nbformat": 4,
 "nbformat_minor": 5
}
