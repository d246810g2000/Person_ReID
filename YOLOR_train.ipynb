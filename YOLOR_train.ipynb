{
 "cells": [
  {
   "cell_type": "markdown",
   "id": "5d02fe33",
   "metadata": {
    "id": "ttRwgqBzYQKE"
   },
   "source": [
    "# YOLOR"
   ]
  },
  {
   "cell_type": "code",
   "execution_count": 1,
   "id": "d56c0c37",
   "metadata": {},
   "outputs": [
    {
     "name": "stdout",
     "output_type": "stream",
     "text": [
      "Cloning into 'yolor'...\n",
      "remote: Enumerating objects: 492, done.\u001b[K\n",
      "remote: Total 492 (delta 0), reused 0 (delta 0), pack-reused 492\u001b[K\n",
      "Receiving objects: 100% (492/492), 3.42 MiB | 10.11 MiB/s, done.\n",
      "Resolving deltas: 100% (227/227), done.\n"
     ]
    }
   ],
   "source": [
    "import os\n",
    "import sys\n",
    "import shutil\n",
    "repo = 'yolor'\n",
    "\n",
    "# 檢查是否已有 yolor 的 repo, 若有則刪除\n",
    "if os.path.exists(repo):\n",
    "    shutil.rmtree(repo)  # delete output folder\n",
    "!git clone https://github.com/WongKinYiu/yolor\n",
    "    \n",
    "sys.path.append(repo)\n",
    "os.environ['CUDA_VISIBLE_DEVICES'] = '1'"
   ]
  },
  {
   "cell_type": "markdown",
   "id": "aba8735f",
   "metadata": {
    "id": "XQXgxe34fucu"
   },
   "source": [
    "### 安裝所需套件"
   ]
  },
  {
   "cell_type": "code",
   "execution_count": 2,
   "id": "ebb50fc3",
   "metadata": {
    "colab": {
     "base_uri": "https://localhost:8080/"
    },
    "id": "i6njqfDCfucx",
    "outputId": "fa3e290b-4745-40ac-c360-13cea7793402"
   },
   "outputs": [],
   "source": [
    "!pip install wandb pycocotools -q"
   ]
  },
  {
   "cell_type": "markdown",
   "id": "ef9c0347",
   "metadata": {
    "id": "1oaNWg0UgC_x"
   },
   "source": [
    "### 資料集轉換格式"
   ]
  },
  {
   "cell_type": "code",
   "execution_count": 2,
   "id": "51fb4633",
   "metadata": {
    "id": "lynBZqZVf0wH"
   },
   "outputs": [],
   "source": [
    "import glob\n",
    "import random\n",
    "import xml.etree.ElementTree as ET\n",
    "\n",
    "def getImagesInDir(dir_path):\n",
    "    img_formats = ['bmp', 'jpg', 'jpeg', 'png', 'tif', 'tiff', 'dng']  # acceptable image suffixes\n",
    "    image_list = []\n",
    "    for img_format in img_formats:\n",
    "        for filename in glob.glob(dir_path + f'/*.{img_format}'):\n",
    "            image_list.append(filename)\n",
    "\n",
    "    return image_list\n",
    "\n",
    "def convert(size, box):\n",
    "    dw = 1./(size[0])\n",
    "    dh = 1./(size[1])\n",
    "    x = (box[0] + box[1])/2.0 - 1\n",
    "    y = (box[2] + box[3])/2.0 - 1\n",
    "    w = box[1] - box[0]\n",
    "    h = box[3] - box[2]\n",
    "    x = x*dw\n",
    "    w = w*dw\n",
    "    y = y*dh\n",
    "    h = h*dh\n",
    "    return (x,y,w,h)\n",
    "\n",
    "def convert_annotation(img_path, ann_dir, output_image_path, output_label_path):\n",
    "    basename = os.path.basename(img_path)\n",
    "    basename_no_ext = os.path.splitext(basename)[0]\n",
    "    \n",
    "    #copy image\n",
    "    shutil.copy(img_path, os.path.join(output_image_path, basename))\n",
    "\n",
    "    in_file = open(ann_dir + '/' + basename_no_ext + '.xml')\n",
    "    out_file = open(output_label_path + basename_no_ext + '.txt', 'w')\n",
    "    tree = ET.parse(in_file)\n",
    "    root = tree.getroot()\n",
    "    size = root.find('size')\n",
    "    w = int(size.find('width').text)\n",
    "    h = int(size.find('height').text)\n",
    "\n",
    "    for obj in root.iter('object'):\n",
    "        difficult = obj.find('difficult').text\n",
    "        cls = obj.find('name').text\n",
    "        if cls not in classes or int(difficult)==1:\n",
    "            continue\n",
    "        cls_id = classes.index(cls)\n",
    "        xmlbox = obj.find('bndbox')\n",
    "        b = (float(xmlbox.find('xmin').text), float(xmlbox.find('xmax').text), float(xmlbox.find('ymin').text), float(xmlbox.find('ymax').text))\n",
    "        bb = convert((w,h), b)\n",
    "        out_file.write(str(cls_id) + \" \" + \" \".join([str(a) for a in bb]) + '\\n')\n",
    "\n",
    "name = 'pedestrian'\n",
    "classes = ['pedestrian']\n",
    "train_test_split_rate = 0.2\n",
    "\n",
    "img_dir = 'person_reid_datasets/train/JPEGImages/'\n",
    "ann_dir = 'person_reid_datasets/train/Annotations/'\n",
    "image_paths = getImagesInDir(img_dir)\n",
    "random.seed(2022)\n",
    "random.shuffle(image_paths)\n",
    "\n",
    "train_image_path = f'yolor/datasets/{name}/train/images/'\n",
    "train_label_path = f'yolor/datasets/{name}/train/labels/'\n",
    "valid_image_path = f'yolor/datasets/{name}/valid/images/'\n",
    "valid_label_path = f'yolor/datasets/{name}/valid/labels/'\n",
    "\n",
    "if not os.path.exists(train_image_path):\n",
    "    os.makedirs(train_image_path)\n",
    "if not os.path.exists(train_label_path):\n",
    "    os.makedirs(train_label_path)\n",
    "if not os.path.exists(valid_image_path):\n",
    "    os.makedirs(valid_image_path)\n",
    "if not os.path.exists(valid_label_path):\n",
    "    os.makedirs(valid_label_path)\n",
    "\n",
    "train_test_split = len(image_paths)*train_test_split_rate\n",
    "\n",
    "for i, img_path in enumerate(image_paths):\n",
    "    if i >= train_test_split:\n",
    "        # train\n",
    "        convert_annotation(img_path, ann_dir, train_image_path, train_label_path)\n",
    "    else:\n",
    "        # valid\n",
    "        convert_annotation(img_path, ann_dir, valid_image_path, valid_label_path)"
   ]
  },
  {
   "cell_type": "markdown",
   "id": "930c7582",
   "metadata": {},
   "source": [
    "## YOLOR_CSP"
   ]
  },
  {
   "cell_type": "markdown",
   "id": "522f52e0",
   "metadata": {
    "id": "rFYHjgQqgI6L"
   },
   "source": [
    "### 創建 yaml 和 cfg 檔"
   ]
  },
  {
   "cell_type": "code",
   "execution_count": 4,
   "id": "e98291cd",
   "metadata": {
    "colab": {
     "base_uri": "https://localhost:8080/"
    },
    "id": "huluxCAZgYoJ",
    "outputId": "13ce6c13-d76f-444f-da41-ff4b29c134bb"
   },
   "outputs": [
    {
     "name": "stdout",
     "output_type": "stream",
     "text": [
      "train: PyTorch_YOLOv4/datasets/pedestrian/train/images\n",
      "val: PyTorch_YOLOv4/datasets/pedestrian/valid/images\n",
      "\n",
      "nc: 1\n",
      "names: [pedestrian]\n"
     ]
    }
   ],
   "source": [
    "!echo -e 'train: yolor/datasets/pedestrian/train/images\\nval: yolor/datasets/pedestrian/valid/images\\n\\nnc: 1\\nnames: [pedestrian]' > yolor/data/pedestrian.yaml\n",
    "!head PyTorch_YOLOv4/data/pedestrian.yaml"
   ]
  },
  {
   "cell_type": "code",
   "execution_count": 12,
   "id": "f3cfd0f1",
   "metadata": {
    "colab": {
     "base_uri": "https://localhost:8080/"
    },
    "id": "whvB-2LdgiX9",
    "outputId": "b98cdb6b-ea1a-4d62-b94b-12f5161f22c6"
   },
   "outputs": [
    {
     "name": "stdout",
     "output_type": "stream",
     "text": [
      "filters=255\n",
      "filters=255\n",
      "filters=255\n",
      "filters=255\n",
      "classes=80\n",
      "filters=255\n",
      "classes=80\n",
      "filters=255\n",
      "classes=80\n"
     ]
    }
   ],
   "source": [
    "!cp cfg/yolor_csp.cfg cfg/yolor_csp_pedestrian.cfg\n",
    "!sed -n -e 1235p -e 1239p -e 1243p -e 1267p -e 1276p -e 1311p -e 1320p -e 1355p -e 1364p cfg/yolor_csp_pedestrian.cfg"
   ]
  },
  {
   "cell_type": "code",
   "execution_count": 13,
   "id": "4a8b685c",
   "metadata": {
    "id": "02j_JfwPgiX-"
   },
   "outputs": [],
   "source": [
    "!sed -i '1235s/255/18/' cfg/yolor_csp_pedestrian.cfg # (classes + 5)x3\n",
    "!sed -i '1239s/255/18/' cfg/yolor_csp_pedestrian.cfg # (classes + 5)x3\n",
    "!sed -i '1243s/255/18/' cfg/yolor_csp_pedestrian.cfg # (classes + 5)x3\n",
    "!sed -i '1267s/255/18/' cfg/yolor_csp_pedestrian.cfg # (classes + 5)x3\n",
    "!sed -i '1276s/80/1/' cfg/yolor_csp_pedestrian.cfg\n",
    "!sed -i '1311s/255/18/' cfg/yolor_csp_pedestrian.cfg # (classes + 5)x3\n",
    "!sed -i '1320s/80/1/' cfg/yolor_csp_pedestrian.cfg\n",
    "!sed -i '1355s/255/18/' cfg/yolor_csp_pedestrian.cfg # (classes + 5)x3\n",
    "!sed -i '1364s/80/1/' cfg/yolor_csp_pedestrian.cfg"
   ]
  },
  {
   "cell_type": "code",
   "execution_count": 14,
   "id": "640e4c27",
   "metadata": {
    "colab": {
     "base_uri": "https://localhost:8080/"
    },
    "id": "auJtjmo6giX_",
    "outputId": "95e67710-27f8-4a5b-c970-6cacbb43e6c0"
   },
   "outputs": [
    {
     "name": "stdout",
     "output_type": "stream",
     "text": [
      "filters=18\n",
      "filters=18\n",
      "filters=18\n",
      "filters=18\n",
      "classes=1\n",
      "filters=18\n",
      "classes=1\n",
      "filters=18\n",
      "classes=1\n"
     ]
    }
   ],
   "source": [
    "!sed -n -e 1235p -e 1239p -e 1243p -e 1267p -e 1276p -e 1311p -e 1320p -e 1355p -e 1364p cfg/yolor_csp_pedestrian.cfg"
   ]
  },
  {
   "cell_type": "markdown",
   "id": "3b2ffdd2",
   "metadata": {
    "id": "yU36gtbLhvLe"
   },
   "source": [
    "### 使用 wandb 記錄訓練過程\n",
    "- 先進入官網登入：https://wandb.ai/site \n",
    "- 右上方頭像 -> settings -> 複製 API keys -> 填入下方輸入處"
   ]
  },
  {
   "cell_type": "code",
   "execution_count": 9,
   "id": "64ca4b65",
   "metadata": {
    "colab": {
     "base_uri": "https://localhost:8080/",
     "height": 153
    },
    "id": "BQJSuQLfhvLg",
    "outputId": "b4ad6977-348e-427d-9375-8f0396f7cfdb"
   },
   "outputs": [
    {
     "name": "stderr",
     "output_type": "stream",
     "text": [
      "Failed to detect the name of this notebook, you can set it manually with the WANDB_NOTEBOOK_NAME environment variable to enable code saving.\n",
      "\u001b[34m\u001b[1mwandb\u001b[0m: Currently logged in as: \u001b[33md246810g2000\u001b[0m (use `wandb login --relogin` to force relogin)\n"
     ]
    },
    {
     "data": {
      "text/html": [
       "Tracking run with wandb version 0.12.14"
      ],
      "text/plain": [
       "<IPython.core.display.HTML object>"
      ]
     },
     "metadata": {},
     "output_type": "display_data"
    },
    {
     "data": {
      "text/html": [
       "Run data is saved locally in <code>/home/jovyan/Person_ReID/wandb/run-20220419_170421-14zve55r</code>"
      ],
      "text/plain": [
       "<IPython.core.display.HTML object>"
      ]
     },
     "metadata": {},
     "output_type": "display_data"
    },
    {
     "data": {
      "text/html": [
       "Syncing run <strong><a href=\"https://wandb.ai/d246810g2000/Person_ReID/runs/14zve55r\" target=\"_blank\">olive-thunder-1</a></strong> to <a href=\"https://wandb.ai/d246810g2000/Person_ReID\" target=\"_blank\">Weights & Biases</a> (<a href=\"https://wandb.me/run\" target=\"_blank\">docs</a>)<br/>"
      ],
      "text/plain": [
       "<IPython.core.display.HTML object>"
      ]
     },
     "metadata": {},
     "output_type": "display_data"
    }
   ],
   "source": [
    "import wandb\n",
    "# Logging\n",
    "id = wandb.util.generate_id()\n",
    "wandb_run = wandb.init()"
   ]
  },
  {
   "cell_type": "code",
   "execution_count": 10,
   "id": "9980e604",
   "metadata": {},
   "outputs": [
    {
     "data": {
      "text/plain": [
       "'21s20fv5'"
      ]
     },
     "execution_count": 10,
     "metadata": {},
     "output_type": "execute_result"
    }
   ],
   "source": [
    "id"
   ]
  },
  {
   "cell_type": "markdown",
   "id": "185ddd8d",
   "metadata": {
    "id": "sII5gT_YjBSd"
   },
   "source": [
    "### 開始訓練"
   ]
  },
  {
   "cell_type": "code",
   "execution_count": 1,
   "id": "a362b886",
   "metadata": {
    "colab": {
     "base_uri": "https://localhost:8080/"
    },
    "id": "mSuDjPdEl65F",
    "outputId": "45825ee2-7687-4fb3-86cf-28f03266880d"
   },
   "outputs": [
    {
     "name": "stdout",
     "output_type": "stream",
     "text": [
      "/bin/bash: built-in: No such file or directory\n"
     ]
    }
   ],
   "source": [
    "# command line training\n",
    "!python yolor/train.py --device 0 --batch-size 8 --img 640 640 --data data/pedestrian.yaml --cfg cfg/yolor_csp_pedestrian.cfg --weights 'yolor_csp.pt' --name $id --hyp data/hyp.scratch.640.yaml --epochs 300 --multi-scale"
   ]
  },
  {
   "cell_type": "markdown",
   "id": "809925a1",
   "metadata": {},
   "source": [
    "## YOLOR_P6"
   ]
  },
  {
   "cell_type": "markdown",
   "id": "43a4227f",
   "metadata": {
    "id": "rFYHjgQqgI6L"
   },
   "source": [
    "### 創建 yaml 和 cfg 檔"
   ]
  },
  {
   "cell_type": "code",
   "execution_count": 4,
   "id": "88fc278d",
   "metadata": {
    "colab": {
     "base_uri": "https://localhost:8080/"
    },
    "id": "huluxCAZgYoJ",
    "outputId": "13ce6c13-d76f-444f-da41-ff4b29c134bb"
   },
   "outputs": [
    {
     "name": "stdout",
     "output_type": "stream",
     "text": [
      "train: PyTorch_YOLOv4/datasets/pedestrian/train/images\n",
      "val: PyTorch_YOLOv4/datasets/pedestrian/valid/images\n",
      "\n",
      "nc: 1\n",
      "names: [pedestrian]\n"
     ]
    }
   ],
   "source": [
    "!echo -e 'train: yolor/datasets/pedestrian/train/images\\nval: yolor/datasets/pedestrian/valid/images\\n\\nnc: 1\\nnames: [pedestrian]' > yolor/data/pedestrian.yaml\n",
    "!head PyTorch_YOLOv4/data/pedestrian.yaml"
   ]
  },
  {
   "cell_type": "code",
   "execution_count": 8,
   "id": "9cf9ae54",
   "metadata": {
    "colab": {
     "base_uri": "https://localhost:8080/"
    },
    "id": "whvB-2LdgiX9",
    "outputId": "b98cdb6b-ea1a-4d62-b94b-12f5161f22c6"
   },
   "outputs": [
    {
     "name": "stdout",
     "output_type": "stream",
     "text": [
      "filters=255\n",
      "filters=255\n",
      "filters=255\n",
      "filters=255\n",
      "filters=255\n",
      "classes=80\n",
      "filters=255\n",
      "classes=80\n",
      "filters=255\n",
      "classes=80\n",
      "filters=255\n",
      "classes=80\n"
     ]
    }
   ],
   "source": [
    "!cp cfg/yolor_p6.cfg cfg/yolor_p6_pedestrian.cfg\n",
    "!sed -n -e 1569p -e 1573p -e 1577p -e 1581p -e 1605p -e 1614p -e 1649p -e 1658p -e 1693p -e 1702p -e 1737p -e 1746p cfg/yolor_p6_pedestrian.cfg"
   ]
  },
  {
   "cell_type": "code",
   "execution_count": 10,
   "id": "ac6995e0",
   "metadata": {
    "id": "02j_JfwPgiX-"
   },
   "outputs": [],
   "source": [
    "!sed -i '1569s/255/18/' cfg/yolor_p6_pedestrian.cfg # (classes + 5)x3\n",
    "!sed -i '1573s/255/18/' cfg/yolor_p6_pedestrian.cfg # (classes + 5)x3\n",
    "!sed -i '1577s/255/18/' cfg/yolor_p6_pedestrian.cfg # (classes + 5)x3\n",
    "!sed -i '1581s/255/18/' cfg/yolor_p6_pedestrian.cfg # (classes + 5)x3\n",
    "\n",
    "!sed -i '1605s/255/18/' cfg/yolor_p6_pedestrian.cfg # (classes + 5)x3\n",
    "!sed -i '1614s/80/1/' cfg/yolor_p6_pedestrian.cfg\n",
    "!sed -i '1649s/255/18/' cfg/yolor_p6_pedestrian.cfg # (classes + 5)x3\n",
    "!sed -i '1658s/80/1/' cfg/yolor_p6_pedestrian.cfg\n",
    "!sed -i '1693s/255/18/' cfg/yolor_p6_pedestrian.cfg # (classes + 5)x3\n",
    "!sed -i '1702s/80/1/' cfg/yolor_p6_pedestrian.cfg\n",
    "!sed -i '1737s/255/18/' cfg/yolor_p6_pedestrian.cfg # (classes + 5)x3\n",
    "!sed -i '1746s/80/1/' cfg/yolor_p6_pedestrian.cfg"
   ]
  },
  {
   "cell_type": "code",
   "execution_count": 11,
   "id": "012e7709",
   "metadata": {
    "colab": {
     "base_uri": "https://localhost:8080/"
    },
    "id": "auJtjmo6giX_",
    "outputId": "95e67710-27f8-4a5b-c970-6cacbb43e6c0"
   },
   "outputs": [
    {
     "name": "stdout",
     "output_type": "stream",
     "text": [
      "filters=18\n",
      "filters=18\n",
      "filters=18\n",
      "filters=18\n",
      "filters=18\n",
      "classes=1\n",
      "filters=18\n",
      "classes=1\n",
      "filters=18\n",
      "classes=1\n",
      "filters=18\n",
      "classes=1\n"
     ]
    }
   ],
   "source": [
    "!sed -n -e 1569p -e 1573p -e 1577p -e 1581p -e 1605p -e 1614p -e 1649p -e 1658p -e 1693p -e 1702p -e 1737p -e 1746p cfg/yolor_p6_pedestrian.cfg"
   ]
  },
  {
   "cell_type": "markdown",
   "id": "0ee6fcbc",
   "metadata": {
    "id": "yU36gtbLhvLe"
   },
   "source": [
    "### 使用 wandb 記錄訓練過程\n",
    "- 先進入官網登入：https://wandb.ai/site \n",
    "- 右上方頭像 -> settings -> 複製 API keys -> 填入下方輸入處"
   ]
  },
  {
   "cell_type": "code",
   "execution_count": 9,
   "id": "d94b2c37",
   "metadata": {
    "colab": {
     "base_uri": "https://localhost:8080/",
     "height": 153
    },
    "id": "BQJSuQLfhvLg",
    "outputId": "b4ad6977-348e-427d-9375-8f0396f7cfdb"
   },
   "outputs": [
    {
     "name": "stderr",
     "output_type": "stream",
     "text": [
      "Failed to detect the name of this notebook, you can set it manually with the WANDB_NOTEBOOK_NAME environment variable to enable code saving.\n",
      "\u001b[34m\u001b[1mwandb\u001b[0m: Currently logged in as: \u001b[33md246810g2000\u001b[0m (use `wandb login --relogin` to force relogin)\n"
     ]
    },
    {
     "data": {
      "text/html": [
       "Tracking run with wandb version 0.12.14"
      ],
      "text/plain": [
       "<IPython.core.display.HTML object>"
      ]
     },
     "metadata": {},
     "output_type": "display_data"
    },
    {
     "data": {
      "text/html": [
       "Run data is saved locally in <code>/home/jovyan/Person_ReID/wandb/run-20220419_170421-14zve55r</code>"
      ],
      "text/plain": [
       "<IPython.core.display.HTML object>"
      ]
     },
     "metadata": {},
     "output_type": "display_data"
    },
    {
     "data": {
      "text/html": [
       "Syncing run <strong><a href=\"https://wandb.ai/d246810g2000/Person_ReID/runs/14zve55r\" target=\"_blank\">olive-thunder-1</a></strong> to <a href=\"https://wandb.ai/d246810g2000/Person_ReID\" target=\"_blank\">Weights & Biases</a> (<a href=\"https://wandb.me/run\" target=\"_blank\">docs</a>)<br/>"
      ],
      "text/plain": [
       "<IPython.core.display.HTML object>"
      ]
     },
     "metadata": {},
     "output_type": "display_data"
    }
   ],
   "source": [
    "import wandb\n",
    "# Logging\n",
    "id = wandb.util.generate_id()\n",
    "wandb_run = wandb.init()"
   ]
  },
  {
   "cell_type": "code",
   "execution_count": 10,
   "id": "9a2a2008",
   "metadata": {},
   "outputs": [
    {
     "data": {
      "text/plain": [
       "'21s20fv5'"
      ]
     },
     "execution_count": 10,
     "metadata": {},
     "output_type": "execute_result"
    }
   ],
   "source": [
    "id"
   ]
  },
  {
   "cell_type": "markdown",
   "id": "5ae4b1e3",
   "metadata": {
    "id": "sII5gT_YjBSd"
   },
   "source": [
    "### 開始訓練"
   ]
  },
  {
   "cell_type": "code",
   "execution_count": 1,
   "id": "a7aa481e",
   "metadata": {
    "colab": {
     "base_uri": "https://localhost:8080/"
    },
    "id": "mSuDjPdEl65F",
    "outputId": "45825ee2-7687-4fb3-86cf-28f03266880d"
   },
   "outputs": [
    {
     "name": "stdout",
     "output_type": "stream",
     "text": [
      "/bin/bash: built-in: No such file or directory\n"
     ]
    }
   ],
   "source": [
    "# command line training\n",
    "!python yolor/train.py --batch-size 4 --img 1280 1280 --data data/pedestrian.yaml --cfg cfg/yolor_p6_pedestrian.cfg --weights 'yolor_p6.pt' --device 0 --name yolor_p6_pedestrian --hyp data/hyp.scratch.1280.yaml --epochs 300"
   ]
  }
 ],
 "metadata": {
  "accelerator": "GPU",
  "colab": {
   "collapsed_sections": [],
   "name": "YOLOv4_train.ipynb",
   "provenance": []
  },
  "kernelspec": {
   "display_name": "Python 3 (ipykernel)",
   "language": "python",
   "name": "python3"
  },
  "language_info": {
   "codemirror_mode": {
    "name": "ipython",
    "version": 3
   },
   "file_extension": ".py",
   "mimetype": "text/x-python",
   "name": "python",
   "nbconvert_exporter": "python",
   "pygments_lexer": "ipython3",
   "version": "3.7.10"
  }
 },
 "nbformat": 4,
 "nbformat_minor": 5
}
